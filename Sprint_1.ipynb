{
 "cells": [
  {
   "cell_type": "markdown",
   "metadata": {},
   "source": [
    "# Nivell 1\n",
    "\n",
    "## - Exercici 1\n",
    "\n",
    "Programa __Anaconda__ amb __Python 3__ i __Jupiter Notebook__ instalat.\n",
    "\n",
    "![](https://raw.githubusercontent.com/David-DataScience/Jupyter_Markdown/main/anaconda.png)\n",
    "\n",
    "## - Exercici 2\n"
   ]
  },
  {
   "cell_type": "markdown",
   "metadata": {},
   "source": [
    " _sumar:_"
   ]
  },
  {
   "cell_type": "code",
   "execution_count": 12,
   "metadata": {},
   "outputs": [
    {
     "data": {
      "text/plain": [
       "16"
      ]
     },
     "execution_count": 12,
     "metadata": {},
     "output_type": "execute_result"
    }
   ],
   "source": [
    "def sumar(x,y):\n",
    "    return x+y\n",
    "sumar(7,9)"
   ]
  },
  {
   "cell_type": "markdown",
   "metadata": {},
   "source": [
    "_restar:_"
   ]
  },
  {
   "cell_type": "code",
   "execution_count": 9,
   "metadata": {},
   "outputs": [
    {
     "data": {
      "text/plain": [
       "-6"
      ]
     },
     "execution_count": 9,
     "metadata": {},
     "output_type": "execute_result"
    }
   ],
   "source": [
    "def restar(x,y):\n",
    "    return x-y\n",
    "restar(8,14)"
   ]
  },
  {
   "cell_type": "markdown",
   "metadata": {},
   "source": [
    "_multiplicar:_"
   ]
  },
  {
   "cell_type": "code",
   "execution_count": 3,
   "metadata": {},
   "outputs": [
    {
     "data": {
      "text/plain": [
       "95"
      ]
     },
     "execution_count": 3,
     "metadata": {},
     "output_type": "execute_result"
    }
   ],
   "source": [
    "def multip(x,y):\n",
    "    return x*y\n",
    "multip(5,19)"
   ]
  },
  {
   "cell_type": "markdown",
   "metadata": {},
   "source": [
    "_Dividir:_"
   ]
  },
  {
   "cell_type": "code",
   "execution_count": 4,
   "metadata": {},
   "outputs": [
    {
     "data": {
      "text/plain": [
       "4.153846153846154"
      ]
     },
     "execution_count": 4,
     "metadata": {},
     "output_type": "execute_result"
    }
   ],
   "source": [
    "def multip(x,y):\n",
    "    return x/y\n",
    "multip(54,13)"
   ]
  },
  {
   "cell_type": "markdown",
   "metadata": {},
   "source": [
    "_Modul:_"
   ]
  },
  {
   "cell_type": "code",
   "execution_count": 5,
   "metadata": {},
   "outputs": [
    {
     "data": {
      "text/plain": [
       "6"
      ]
     },
     "execution_count": 5,
     "metadata": {},
     "output_type": "execute_result"
    }
   ],
   "source": [
    "def modul(x,y):\n",
    "    return x%y\n",
    "modul(6,19)"
   ]
  },
  {
   "cell_type": "markdown",
   "metadata": {},
   "source": [
    "## - Exercici 3:<br><br>     \n",
    "\n",
    "<font face = \"Microsoft Yahei\" size = 5 color = #33FF3C> variant</font>\n",
    " <font size = 16> l'estil</font>\n",
    " <font color = #1E90FF> de lletra </font>\n",
    " <font color = gray> com demana  </font>\n",
    " <font face = \"Microsoft Yahei\" size = 11 color = #FF5733> l'exercici</font><br><br>\n",
    " \n",
    " __llista ordenada:__\n",
    " 1. item 1\n",
    " 2. item 2\n",
    " 3. item 3\n",
    "     1. subitem 3.1\n",
    "     2. subitem 3.2\n",
    "  \n",
    "     \n",
    " __Llista no ordenada:__\n",
    " + item 1\n",
    " + item 2\n",
    " + item 3\n",
    "     + subitem\n",
    "     + subitem\n",
    "\n"
   ]
  },
  {
   "cell_type": "markdown",
   "metadata": {},
   "source": [
    "# Nivell 2\n",
    "\n",
    "## - Exercici 1:"
   ]
  },
  {
   "cell_type": "markdown",
   "metadata": {},
   "source": [
    "Exporta el __notebook__ com a _pdf_ i _html_"
   ]
  },
  {
   "cell_type": "markdown",
   "metadata": {},
   "source": [
    "https://github.com/David-DataScience/Jupyter_Markdown/blob/main/Sprint_1.pdf"
   ]
  },
  {
   "cell_type": "markdown",
   "metadata": {},
   "source": [
    "https://github.com/David-DataScience/Jupyter_Markdown/blob/main/Sprint_1.html"
   ]
  },
  {
   "cell_type": "markdown",
   "metadata": {},
   "source": [
    "# Nivell 3\n",
    "\n",
    "## - Exercici 1\n",
    "\n",
    "_Nbextensions_ al __Notebook__ de __Jupyter__ instalat!!"
   ]
  },
  {
   "cell_type": "markdown",
   "metadata": {},
   "source": [
    "![](https://raw.githubusercontent.com/David-DataScience/Jupyter_Markdown/main/nbextensions.png)"
   ]
  },
  {
   "cell_type": "code",
   "execution_count": null,
   "metadata": {},
   "outputs": [],
   "source": []
  }
 ],
 "metadata": {
  "kernelspec": {
   "display_name": "Python 3 (ipykernel)",
   "language": "python",
   "name": "python3"
  },
  "language_info": {
   "codemirror_mode": {
    "name": "ipython",
    "version": 3
   },
   "file_extension": ".py",
   "mimetype": "text/x-python",
   "name": "python",
   "nbconvert_exporter": "python",
   "pygments_lexer": "ipython3",
   "version": "3.9.7"
  }
 },
 "nbformat": 4,
 "nbformat_minor": 4
}
